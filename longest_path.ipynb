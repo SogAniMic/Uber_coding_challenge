{
 "cells": [
  {
   "cell_type": "markdown",
   "id": "8af70792",
   "metadata": {},
   "source": [
    "# A NE B\n",
    "\n",
    "This means this means point A is located northeast of point B.\n",
    "\n",
    "A SW C\n",
    "\n",
    "means that point A is southwest of C.\n",
    "\n",
    "Given a list of rules, check if the sum of the rules validate. For example:"
   ]
  },
  {
   "cell_type": "code",
   "execution_count": null,
   "id": "4aab8273",
   "metadata": {},
   "outputs": [],
   "source": [
    "from math import inf\n",
    "\n",
    "\n",
    "class Node:\n",
    "    def __init__(self, val, children=[]):\n",
    "        self.val = val\n",
    "        self.children = children\n",
    "\n",
    "\n",
    "def longest_path(root):\n",
    "    height, path = longest_height_and_path(root)\n",
    "    return path\n",
    "\n",
    "\n",
    "def longest_height_and_path(root):\n",
    "    longest_path_so_far = -inf\n",
    "    highest, second_highest = 0, 0\n",
    "    for length, child in root.children:\n",
    "        height, longest_path_length = longest_height_and_path(child)\n",
    "\n",
    "        longest_path_so_far = max(longest_path_so_far, longest_path_length)\n",
    "\n",
    "        if height + length > highest:\n",
    "            highest, second_highest = height + length, highest\n",
    "        elif height + length > second_highest:\n",
    "            second_highest = height + length\n",
    "\n",
    "\n",
    "    return highest, max(longest_path_so_far, highest + second_highest)"
   ]
  }
 ],
 "metadata": {
  "kernelspec": {
   "display_name": "Python 3 (ipykernel)",
   "language": "python",
   "name": "python3"
  },
  "language_info": {
   "codemirror_mode": {
    "name": "ipython",
    "version": 3
   },
   "file_extension": ".py",
   "mimetype": "text/x-python",
   "name": "python",
   "nbconvert_exporter": "python",
   "pygments_lexer": "ipython3",
   "version": "3.9.13"
  }
 },
 "nbformat": 4,
 "nbformat_minor": 5
}
